{
 "cells": [
  {
   "cell_type": "markdown",
   "metadata": {},
   "source": [
    "## pyHanLP 用户指南指引简介\n",
    "\n",
    "*因为pyhanlp 原作者并没有提供一份完整的pyhanlp使用指南，仅仅提供了一份demo。虽然demo已经较为详尽，但是却是也存在更新慢于HanLP的节奏，部分接口未暴露的问题，而本人在使用过程中却是也发现了一些问题，因此本人个人写了这份pyhanlp用户指南，能够帮助其他用户更快的上手pyhanlp，并对原HanLP 有一定的了解。同时也解决了一些问题。下面是一些有用的连接*\n",
    "\n",
    "* 建议参考\n",
    "    * [HanLP 的 Github 地址](https://github.com/hankcs/HanLP)\n",
    "    * [pyhanlp 的Github地址](https://github.com/hankcs/pyhanlp)\n",
    "    * [fonttian写的用户指南 Github地址]()\n",
    "    * [fonttian写的用户指南 CSDN地址]()\n",
    "    * [fonttian写的用户指南 知乎地址]()\n",
    "    \n",
    "\n",
    "## 包括那些部分\n",
    "* 目录\n",
    "    * [pyHanLP 用户指南指引]()\n",
    "    * [pyhanlp 原项目指引]()\n",
    "    * [分词与词性注解]()\n",
    "    * [停用词与用户自定义词典]()\n",
    "    * [实体命名与识别]()\n",
    "    * [关键词、短语提取与自动摘要、新词识别]()\n",
    "    * [共性分析与依存词法分析]()\n",
    "    * [繁简、拼音转换与字符正则化]()\n",
    "    * [文本距离与同义改写]()\n",
    "    * [语义距离等]()\n",
    "    * [文本分类与情感分析]()\n",
    "    * [使用技巧与注意事项汇总]()\n",
    "    * [实例：任意文本生成中文词云]()\n",
    "    * [实例：淘宝评论情感分析]()\n",
    "    * [实例：利用新闻标题进行文本分类]()\n",
    "    \n",
    "\n",
    "## 具体内容\n",
    "\n",
    "\n",
    "## 联系我\n",
    "\n",
    "\n",
    "\n",
    "\n",
    "\n",
    "\n"
   ]
  }
 ],
 "metadata": {
  "kernelspec": {
   "display_name": "Python 3",
   "language": "python",
   "name": "python3"
  },
  "language_info": {
   "codemirror_mode": {
    "name": "ipython",
    "version": 3
   },
   "file_extension": ".py",
   "mimetype": "text/x-python",
   "name": "python",
   "nbconvert_exporter": "python",
   "pygments_lexer": "ipython3",
   "version": "3.6.5"
  }
 },
 "nbformat": 4,
 "nbformat_minor": 2
}
