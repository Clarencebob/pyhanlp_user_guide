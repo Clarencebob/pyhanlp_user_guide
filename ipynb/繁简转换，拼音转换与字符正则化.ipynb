{
 "cells": [
  {
   "cell_type": "markdown",
   "metadata": {},
   "source": [
    "## 繁简转换\n",
    "\n",
    "HanLP几乎实现了所有我们需要的繁简转换方式，并且已经封装到了HanLP中，使得我们可以轻松的使用，而分词器中已经默认支持多种繁简格式或者混合。这里我们不再做过多描述。\n",
    "\n",
    "\n",
    "- 说明\n",
    "  * HanLP能够识别简繁分歧词，比如`打印机=印表機`。许多简繁转换工具不能区分“以后”“皇后”中的两个“后”字，HanLP可以。\n",
    "- 算法详解\n",
    "  * [《汉字转拼音与简繁转换的Java实现》](http://www.hankcs.com/nlp/java-chinese-characters-to-pinyin-and-simplified-conversion-realization.html#h2-17)"
   ]
  },
  {
   "cell_type": "code",
   "execution_count": 1,
   "metadata": {},
   "outputs": [
    {
     "name": "stdout",
     "output_type": "stream",
     "text": [
      "「以後等你當上皇后，就能買草莓慶祝了」。發現一根白頭髮\n",
      "凭借笔记本电脑写程序HanLP\n",
      "hankcs在臺灣寫程式碼\n",
      "hankcs在台湾写代码\n",
      "hankcs在香港寫代碼\n",
      "hankcs在香港写代码\n",
      "hankcs在臺灣寫程式碼\n",
      "hankcs在香港寫代碼\n",
      "hankcs在臺灣寫程式碼\n",
      "hankcs在台灣寫代碼\n",
      "hankcs在臺灣寫代碼\n",
      "hankcs在臺灣寫代碼\n"
     ]
    }
   ],
   "source": [
    "from pyhanlp import *\n",
    "# 繁简转化\n",
    "print(HanLP.convertToTraditionalChinese(\"“以后等你当上皇后，就能买草莓庆祝了”。发现一根白头发\"))\n",
    "print(HanLP.convertToSimplifiedChinese(\"憑藉筆記簿型電腦寫程式HanLP\"))\n",
    "# 简体转台湾繁体\n",
    "print(HanLP.s2tw(\"hankcs在台湾写代码\"))\n",
    "# 台湾繁体转简体\n",
    "print(HanLP.tw2s(\"hankcs在臺灣寫程式碼\"))\n",
    "# 简体转香港繁体\n",
    "print(HanLP.s2hk(\"hankcs在香港写代码\"))\n",
    "# 香港繁体转简体\n",
    "print(HanLP.hk2s(\"hankcs在香港寫代碼\"))\n",
    "# 香港繁体转台湾繁体\n",
    "print(HanLP.hk2tw(\"hankcs在臺灣寫代碼\"))\n",
    "# 台湾繁体转香港繁体\n",
    "print(HanLP.tw2hk(\"hankcs在香港寫程式碼\"))\n",
    "\n",
    "# 香港/台湾繁体和HanLP标准繁体的互转\n",
    "print(HanLP.t2tw(\"hankcs在臺灣寫代碼\"))\n",
    "print(HanLP.t2hk(\"hankcs在臺灣寫代碼\"))\n",
    "\n",
    "print(HanLP.tw2t(\"hankcs在臺灣寫程式碼\"))\n",
    "print(HanLP.hk2t(\"hankcs在台灣寫代碼\"))"
   ]
  },
  {
   "cell_type": "markdown",
   "metadata": {},
   "source": [
    "## 汉字转拼音\n",
    "\n",
    "HanLP中的汉字转拼音功能也十分的强大。\n",
    "\n",
    "- 说明\n",
    "  * HanLP不仅支持基础的汉字转拼音，还支持声母、韵母、音调、音标和输入法首字母首声母功能。\n",
    "  * HanLP能够识别多音字，也能给繁体中文注拼音。\n",
    "  * 最重要的是，HanLP采用的模式匹配升级到`AhoCorasickDoubleArrayTrie`，性能大幅提升，能够提供毫秒级的响应速度！\n",
    "- 算法详解\n",
    "  * [《汉字转拼音与简繁转换的Java实现》](http://www.hankcs.com/nlp/java-chinese-characters-to-pinyin-and-simplified-conversion-realization.html#h2-17)"
   ]
  },
  {
   "cell_type": "code",
   "execution_count": 2,
   "metadata": {},
   "outputs": [
    {
     "name": "stdout",
     "output_type": "stream",
     "text": [
      "原文， 重载不是重任！\n",
      "拼音（数字音调）， [chong2, zai3, bu2, shi4, zhong4, ren4, none5]\n",
      "拼音（符号音调）， chóng, zǎi, bú, shì, zhòng, rèn, none, \n",
      "拼音（无音调）， chong, zai, bu, shi, zhong, ren, none, \n",
      "声调， 2, 3, 2, 4, 4, 4, 5, \n",
      "声母， ch, z, b, sh, zh, r, none, \n",
      "韵母， ong, ai, u, i, ong, en, none, \n",
      "输入法头， ch, z, b, sh, zh, r, none, \n",
      "jie zhi none none none none nian none\n",
      "jie zhi 2 0 1 2 nian ，\n"
     ]
    }
   ],
   "source": [
    "# 汉字转拼音\n",
    "Pinyin = JClass(\"com.hankcs.hanlp.dictionary.py.Pinyin\")\n",
    "text = \"重载不是重任！\"\n",
    "pinyin_list = HanLP.convertToPinyinList(text)\n",
    "\n",
    "print(\"原文，\", end=\" \")\n",
    "print(text)\n",
    "print(\"拼音（数字音调），\", end=\" \")\n",
    "print(pinyin_list)\n",
    "print(\"拼音（符号音调），\", end=\" \")\n",
    "for pinyin in pinyin_list:\n",
    "    print(\"%s,\" % pinyin.getPinyinWithToneMark(), end=\" \")\n",
    "print(\"\\n拼音（无音调），\", end=\" \")\n",
    "for pinyin in pinyin_list:\n",
    "    print(\"%s,\" % pinyin.getPinyinWithoutTone(), end=\" \")\n",
    "print(\"\\n声调，\", end=\" \")\n",
    "for pinyin in pinyin_list:\n",
    "    print(\"%s,\" % pinyin.getTone(), end=\" \")\n",
    "print(\"\\n声母，\", end=\" \")\n",
    "for pinyin in pinyin_list:\n",
    "    print(\"%s,\" % pinyin.getShengmu(), end=\" \")\n",
    "print(\"\\n韵母，\", end=\" \")\n",
    "for pinyin in pinyin_list:\n",
    "    print(\"%s,\" % pinyin.getYunmu(), end=\" \")\n",
    "print(\"\\n输入法头，\", end=\" \")\n",
    "for pinyin in pinyin_list:\n",
    "    print(\"%s,\" % pinyin.getHead(), end=\" \")\n",
    "\n",
    "print()\n",
    "# 拼音转换可选保留无拼音的原字符\n",
    "print(HanLP.convertToPinyinString(\"截至2012年，\", \" \", True))\n",
    "print(HanLP.convertToPinyinString(\"截至2012年，\", \" \", False))"
   ]
  },
  {
   "cell_type": "markdown",
   "metadata": {},
   "source": [
    "# 拼音转中文\n",
    "HanLP中的数据结构和接口是灵活的，组合这些接口，可以自己创造新功能，我们可以使用AhoCorasickDoubleArrayTrie实现的最长分词器，需要用户调用setTrie()提供一个AhoCorasickDoubleArrayTrie\n"
   ]
  },
  {
   "cell_type": "code",
   "execution_count": 5,
   "metadata": {},
   "outputs": [
    {
     "name": "stdout",
     "output_type": "stream",
     "text": [
      "[renmenrenweiyalujiangbujian/null, lvse/[滤色, 绿色]]\n",
      "[lvse/[滤色, 绿色], haihaodajiadongxidayinji/null]\n"
     ]
    }
   ],
   "source": [
    "StringDictionary = JClass(\n",
    "    \"com.hankcs.hanlp.corpus.dictionary.StringDictionary\")\n",
    "CommonAhoCorasickDoubleArrayTrieSegment = JClass(\n",
    "    \"com.hankcs.hanlp.seg.Other.CommonAhoCorasickDoubleArrayTrieSegment\")\n",
    "Config = JClass(\"com.hankcs.hanlp.HanLP$Config\")\n",
    "\n",
    "TreeMap = JClass(\"java.util.TreeMap\")\n",
    "TreeSet = JClass(\"java.util.TreeSet\")\n",
    "\n",
    "dictionary = StringDictionary()\n",
    "dictionary.load(Config.PinyinDictionaryPath)\n",
    "entry = {}\n",
    "m_map = TreeMap()\n",
    "for entry in dictionary.entrySet():\n",
    "    pinyins = entry.getValue().replace(\"[\\\\d,]\", \"\")\n",
    "    words = m_map.get(pinyins)\n",
    "    if words is None:\n",
    "        words = TreeSet()\n",
    "        m_map.put(pinyins, words)\n",
    "    words.add(entry.getKey())\n",
    "words = TreeSet()\n",
    "words.add(\"绿色\")\n",
    "words.add(\"滤色\")\n",
    "m_map.put(\"lvse\", words)\n",
    "\n",
    "segment = CommonAhoCorasickDoubleArrayTrieSegment(m_map)\n",
    "print(segment.segment(\"renmenrenweiyalujiangbujianlvse\"))\n",
    "print(segment.segment(\"lvsehaihaodajiadongxidayinji\"))"
   ]
  },
  {
   "cell_type": "markdown",
   "metadata": {},
   "source": [
    "## 字符正则化\n",
    "\n",
    "演示正规化字符配置项的效果（繁体->简体，全角->半角，大写->小写）。\n",
    "该配置项位于hanlp.properties中，通过Normalization=true来开启（现在直接通过HanLP.Config.Normalization开启即可）。\n",
    "\n",
    "\n",
    "~~切换配置后必须删除CustomDictionary.txt.bin缓存，否则只影响动态插入的新词。~~\n",
    "在我动笔前一个星期，已经有同学添加了，添加自定义词典之后，自动删除缓存的功能。地址请点击[https://github.com/hankcs/HanLP/pull/954](https://github.com/hankcs/HanLP/pull/954)，现在只需要开启正则化即可"
   ]
  },
  {
   "cell_type": "code",
   "execution_count": 20,
   "metadata": {},
   "outputs": [
    {
     "name": "stdout",
     "output_type": "stream",
     "text": [
      "HanLP.Config.Normalization = False\n",
      "\n",
      "[爱听4g]\n",
      "[爱听4G]\n",
      "[爱, 听, ４, G]\n",
      "[爱, 听, ４, Ｇ]\n",
      "[愛, 聽, ４, Ｇ]\n",
      "[喜欢, ４, Ｇ]\n",
      "[hankcs, 在, 臺, 灣寫, 代, 碼]\n",
      "\n",
      "HanLP.Config.Normalization = True\n",
      "\n",
      "[爱听4g]\n",
      "[爱听4g]\n",
      "[爱听4g]\n",
      "[爱听4g]\n",
      "[爱听4g]\n",
      "[喜欢, 4, g]\n",
      "[hankcs, 在, 台湾, 写, 代码]\n",
      "現在的HanLP已經新增了新增自定義詞典之後，自動刪除快取的功能,現在只需要開啟正則化即可\n",
      "[现在, 的, hanlp, 已经, 新增, 了, 新增, 自定义, 词典, 之后, ,, 自动, 删除, 快, 取, 的, 功能, ,, 现在, 只, 需要, 开启, 正, 则, 化, 即可]\n"
     ]
    }
   ],
   "source": [
    "CustomDictionary =JClass(\"com.hankcs.hanlp.dictionary.CustomDictionary\")\n",
    "print(\"HanLP.Config.Normalization = False\\n\")\n",
    "HanLP.Config.Normalization = False\n",
    "CustomDictionary.insert(\"爱听4G\", \"nz 1000\")\n",
    "print(HanLP.segment(\"爱听4g\"))\n",
    "print(HanLP.segment(\"爱听4G\"))\n",
    "print(HanLP.segment(\"爱听４G\"))\n",
    "print(HanLP.segment(\"爱听４Ｇ\"))\n",
    "print(HanLP.segment(\"愛聽４Ｇ\"))\n",
    "\n",
    "print(HanLP.segment(\"喜欢４Ｇ\"))\n",
    "print(HanLP.segment(\"hankcs在臺灣寫代碼\"))\n",
    "\n",
    "\n",
    "print(\"\\nHanLP.Config.Normalization = True\\n\")\n",
    "HanLP.Config.Normalization = True\n",
    "print(HanLP.segment(\"爱听4g\"))\n",
    "print(HanLP.segment(\"爱听4G\"))\n",
    "print(HanLP.segment(\"爱听４G\"))\n",
    "print(HanLP.segment(\"爱听４Ｇ\"))\n",
    "print(HanLP.segment(\"愛聽４Ｇ\"))\n",
    "\n",
    "print(HanLP.segment(\"喜欢４Ｇ\"))\n",
    "print(HanLP.segment(\"hankcs在臺灣寫代碼\"))\n",
    "\n",
    "HanLP.Config.ShowTermNature = False\n",
    "text = HanLP.s2tw(\"现在的HanLP已经添加了添加自定义词典之后，自动删除缓存的功能,现在只需要开启正则化即可\")\n",
    "print(text)\n",
    "print(HanLP.segment(text))\n",
    "HanLP.Config.ShowTermNature = False"
   ]
  },
  {
   "cell_type": "code",
   "execution_count": null,
   "metadata": {},
   "outputs": [],
   "source": []
  }
 ],
 "metadata": {
  "kernelspec": {
   "display_name": "Python 3",
   "language": "python",
   "name": "python3"
  },
  "language_info": {
   "codemirror_mode": {
    "name": "ipython",
    "version": 3
   },
   "file_extension": ".py",
   "mimetype": "text/x-python",
   "name": "python",
   "nbconvert_exporter": "python",
   "pygments_lexer": "ipython3",
   "version": "3.6.5"
  }
 },
 "nbformat": 4,
 "nbformat_minor": 2
}
